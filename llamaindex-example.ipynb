{
 "cells": [
  {
   "cell_type": "code",
   "execution_count": 1,
   "id": "36701adf-e9de-486a-ba64-98df54603339",
   "metadata": {},
   "outputs": [
    {
     "data": {
      "text/plain": [
       "True"
      ]
     },
     "execution_count": 1,
     "metadata": {},
     "output_type": "execute_result"
    }
   ],
   "source": [
    "import os\n",
    "from dotenv import load_dotenv\n",
    "load_dotenv()"
   ]
  },
  {
   "cell_type": "code",
   "execution_count": 2,
   "id": "a6d4ac20-2ccc-499c-a121-44238ca36fa7",
   "metadata": {},
   "outputs": [],
   "source": [
    "os.environ['OPENAI_API_KEY']=os.getenv(\"OPENAI_API_KEY\")"
   ]
  },
  {
   "cell_type": "code",
   "execution_count": 3,
   "id": "05b174c9-88bd-43b4-bc11-b922bbfa869f",
   "metadata": {},
   "outputs": [],
   "source": [
    "# Read data (pdf) files\n",
    "from llama_index.core import VectorStoreIndex, SimpleDirectoryReader,ServiceContext\n",
    "documents=SimpleDirectoryReader(\"data/pdf\").load_data()"
   ]
  },
  {
   "cell_type": "code",
   "execution_count": 4,
   "id": "133ded88-c6ad-40ff-b679-be1665e09155",
   "metadata": {},
   "outputs": [],
   "source": [
    "#documents"
   ]
  },
  {
   "cell_type": "code",
   "execution_count": 5,
   "id": "67104686-538b-4659-a565-85df5312aa07",
   "metadata": {},
   "outputs": [
    {
     "name": "stderr",
     "output_type": "stream",
     "text": [
      "/var/folders/tt/s83h4n255y95sgyr2yrtv2x00000gp/T/ipykernel_73545/1848985020.py:2: DeprecationWarning: Call to deprecated class method from_defaults. (ServiceContext is deprecated, please use `llama_index.settings.Settings` instead.) -- Deprecated since version 0.10.0.\n",
      "  service_context = ServiceContext.from_defaults(chunk_size=512)\n"
     ]
    },
    {
     "data": {
      "application/vnd.jupyter.widget-view+json": {
       "model_id": "0ad9b83bcede4cda808a0887938b8696",
       "version_major": 2,
       "version_minor": 0
      },
      "text/plain": [
       "Parsing nodes:   0%|          | 0/1 [00:00<?, ?it/s]"
      ]
     },
     "metadata": {},
     "output_type": "display_data"
    },
    {
     "data": {
      "application/vnd.jupyter.widget-view+json": {
       "model_id": "e8f57cfc793543f0a2e15936e9d0f385",
       "version_major": 2,
       "version_minor": 0
      },
      "text/plain": [
       "Generating embeddings:   0%|          | 0/1 [00:00<?, ?it/s]"
      ]
     },
     "metadata": {},
     "output_type": "display_data"
    },
    {
     "data": {
      "text/plain": [
       "<llama_index.core.indices.vector_store.base.VectorStoreIndex at 0x7fc6a0e0baf0>"
      ]
     },
     "execution_count": 5,
     "metadata": {},
     "output_type": "execute_result"
    }
   ],
   "source": [
    "# Convert this documents to index\n",
    "service_context = ServiceContext.from_defaults(chunk_size=512)\n",
    "index=VectorStoreIndex.from_documents(documents, service_context=service_context ,show_progress=True)\n",
    "index"
   ]
  },
  {
   "cell_type": "code",
   "execution_count": 6,
   "id": "e7bc6816-20ea-42c3-8328-767c89c3886a",
   "metadata": {},
   "outputs": [
    {
     "data": {
      "text/plain": [
       "<llama_index.core.query_engine.retriever_query_engine.RetrieverQueryEngine at 0x7fc6a0e7a080>"
      ]
     },
     "execution_count": 6,
     "metadata": {},
     "output_type": "execute_result"
    }
   ],
   "source": [
    "# Get the Query Engine from the Index\n",
    "query_engine = index.as_query_engine()\n",
    "query_engine"
   ]
  },
  {
   "cell_type": "code",
   "execution_count": 7,
   "id": "53a80502-e9b8-4b77-9767-8f7c23a33865",
   "metadata": {},
   "outputs": [
    {
     "name": "stdout",
     "output_type": "stream",
     "text": [
      "Himanshu is from Odisha and spent his childhood in Puri. He completed his schooling at Puri Zila School and his intermediate education at SCS college. He pursued his engineering (B.Tech) from NMIET in Bhubaneswar. He began his career as a Systems Engineer Trainee at TCS before moving to Capco technologies Ltd for a brief period. Currently, he is working at Landmark Digital as a Technical Lead, where he has been for 6 years.\n"
     ]
    }
   ],
   "source": [
    "# Ask a query to this Query Engine\n",
    "response = query_engine.query(\"Tell me something about Himanshu\")\n",
    "print(response)"
   ]
  },
  {
   "cell_type": "code",
   "execution_count": 8,
   "id": "939748e2-2376-408c-83da-57aef15c0d11",
   "metadata": {},
   "outputs": [
    {
     "name": "stdout",
     "output_type": "stream",
     "text": [
      "Final Response: Himanshu is from Odisha and spent his childhood in\n",
      "Puri. He completed his schooling at Puri Zila School and his\n",
      "intermediate education at SCS college. He pursued his engineering\n",
      "(B.Tech) from NMIET in Bhubaneswar. He began his career as a Systems\n",
      "Engineer Trainee at TCS before moving to Capco technologies Ltd for a\n",
      "brief period. Currently, he is working at Landmark Digital as a\n",
      "Technical Lead, where he has been for 6 years.\n",
      "______________________________________________________________________\n",
      "Source Node 1/1\n",
      "Node ID: c6f2819a-e53f-45b3-9e5f-81aa901155cc\n",
      "Similarity: 0.8536585389590541\n",
      "Text: Himanshu belongs to Odisha. He has spent his childhood in Puri -\n",
      "one of the beau9ful ci9es of Odisha. He has done his schooling from\n",
      "Puri Zila School and has completed his intermediate from SCS college.\n",
      "Post that he has done his engineering (B.Tech) from NMIET,\n",
      "Bhubaneswar.   AHer this, he joined TCS as a Systems Engineer Trainee\n",
      "where he starte...\n"
     ]
    }
   ],
   "source": [
    "# See the responses (Top response along with top - x responses)\n",
    "from llama_index.core.response.pprint_utils import pprint_response\n",
    "pprint_response(response, show_source=True)"
   ]
  },
  {
   "cell_type": "markdown",
   "id": "9348a31e-41d5-49f7-8194-7109ff05014f",
   "metadata": {},
   "source": [
    "## Create a query engine using Vector Retriever"
   ]
  },
  {
   "cell_type": "code",
   "execution_count": 9,
   "id": "8d97cd36-0958-4d9f-8a88-3dc294d47e70",
   "metadata": {},
   "outputs": [],
   "source": [
    "from llama_index.core.retrievers import VectorIndexRetriever\n",
    "from llama_index.core.query_engine import RetrieverQueryEngine\n",
    "from llama_index.core.indices.postprocessor import SimilarityPostprocessor\n",
    "\n",
    "retriever = VectorIndexRetriever(index=index, similarity_top_k=4)\n",
    "post_processor = SimilarityPostprocessor(similarity_cutoff=0.80)\n",
    "query_engine = RetrieverQueryEngine(retriever=retriever, node_postprocessors=[post_processor])\n"
   ]
  },
  {
   "cell_type": "code",
   "execution_count": 10,
   "id": "7e2074a8-de44-40d5-9b05-d1b3505288da",
   "metadata": {},
   "outputs": [
    {
     "name": "stdout",
     "output_type": "stream",
     "text": [
      "Final Response: Himanshu is originally from Odisha and spent his\n",
      "childhood in Puri. He completed his schooling from Puri Zila School\n",
      "and his intermediate education from SCS college. He pursued his\n",
      "engineering (B.Tech) from NMIET in Bhubaneswar. He began his career as\n",
      "a Systems Engineer Trainee at TCS before moving to Capco technologies\n",
      "Ltd for a brief period. Currently, he is working at Landmark Digital\n",
      "as a Technical Lead, where he has been for 6 years.\n",
      "______________________________________________________________________\n",
      "Source Node 1/1\n",
      "Node ID: c6f2819a-e53f-45b3-9e5f-81aa901155cc\n",
      "Similarity: 0.8536585389590541\n",
      "Text: Himanshu belongs to Odisha. He has spent his childhood in Puri -\n",
      "one of the beau9ful ci9es of Odisha. He has done his schooling from\n",
      "Puri Zila School and has completed his intermediate from SCS college.\n",
      "Post that he has done his engineering (B.Tech) from NMIET,\n",
      "Bhubaneswar.   AHer this, he joined TCS as a Systems Engineer Trainee\n",
      "where he starte...\n"
     ]
    }
   ],
   "source": [
    "# Ask a query to this Query Engine\n",
    "response = query_engine.query(\"Tell me something about Himanshu\")\n",
    "# See the responses (Top response along with top - 4 responses)\n",
    "pprint_response(response, show_source=True)"
   ]
  },
  {
   "cell_type": "markdown",
   "id": "09e9db25-b5b8-4de9-9b41-616067db6508",
   "metadata": {},
   "source": [
    "# Everything in one place"
   ]
  },
  {
   "cell_type": "code",
   "execution_count": 11,
   "id": "0f0c379b-4cf1-4832-a2c8-055ec95dc6a8",
   "metadata": {},
   "outputs": [
    {
     "name": "stdout",
     "output_type": "stream",
     "text": [
      "Himanshu has worked in three companies so far.\n",
      "No, Himanshu does not belong to Africa. He belongs to Odisha, India, as mentioned in the context.\n"
     ]
    }
   ],
   "source": [
    "import os\n",
    "from dotenv import load_dotenv\n",
    "load_dotenv()\n",
    "\n",
    "os.environ['OPENAI_API_KEY']=os.getenv(\"OPENAI_API_KEY\")\n",
    "from llama_index.core import (\n",
    "    SimpleDirectoryReader,\n",
    "    VectorStoreIndex,\n",
    "    StorageContext,\n",
    "    load_index_from_storage\n",
    ")\n",
    "\n",
    "INDEX_STORE = './index_storage'\n",
    "\n",
    "if not os.path.exists(INDEX_STORE):\n",
    "    # Load the documents, create the index and store it for later usage\n",
    "    documents = SimpleDirectoryReader(\"data/pdf\").load_data()\n",
    "    index = VectorStoreIndex.from_documents(documents,show_progress=True)\n",
    "    # Store the index\n",
    "    index.storage_context.persist(persist_dir=INDEX_STORE)\n",
    "else:\n",
    "    # Load the index from file\n",
    "    storage_context = StorageContext.from_defaults(persist_dir=INDEX_STORE)\n",
    "    index = load_index_from_storage(storage_context=storage_context)\n",
    "\n",
    "\n",
    "query_engine = index.as_query_engine()\n",
    "response = query_engine.query(\"How many companies Himanshu has worked so far ?\");\n",
    "print(response)\n",
    "response = query_engine.query(\"Does Himanshu belong to Africa ? Show the reason \");\n",
    "print(response)"
   ]
  },
  {
   "cell_type": "code",
   "execution_count": null,
   "id": "eb648097-d5a2-4ff5-8efe-cd90d2a34522",
   "metadata": {},
   "outputs": [],
   "source": []
  }
 ],
 "metadata": {
  "kernelspec": {
   "display_name": "Python (genai-env-1)",
   "language": "python",
   "name": "genai-env-1"
  },
  "language_info": {
   "codemirror_mode": {
    "name": "ipython",
    "version": 3
   },
   "file_extension": ".py",
   "mimetype": "text/x-python",
   "name": "python",
   "nbconvert_exporter": "python",
   "pygments_lexer": "ipython3",
   "version": "3.10.13"
  }
 },
 "nbformat": 4,
 "nbformat_minor": 5
}
