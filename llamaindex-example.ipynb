{
 "cells": [
  {
   "cell_type": "code",
   "execution_count": 25,
   "id": "36701adf-e9de-486a-ba64-98df54603339",
   "metadata": {},
   "outputs": [
    {
     "data": {
      "text/plain": [
       "True"
      ]
     },
     "execution_count": 25,
     "metadata": {},
     "output_type": "execute_result"
    }
   ],
   "source": [
    "import os\n",
    "from dotenv import load_dotenv\n",
    "load_dotenv()"
   ]
  },
  {
   "cell_type": "code",
   "execution_count": 26,
   "id": "a6d4ac20-2ccc-499c-a121-44238ca36fa7",
   "metadata": {},
   "outputs": [],
   "source": [
    "os.environ['OPENAI_API_KEY']=os.getenv(\"OPENAI_API_KEY\")"
   ]
  },
  {
   "cell_type": "code",
   "execution_count": 27,
   "id": "05b174c9-88bd-43b4-bc11-b922bbfa869f",
   "metadata": {},
   "outputs": [],
   "source": [
    "# Read data (pdf) files\n",
    "from llama_index.core import VectorStoreIndex, SimpleDirectoryReader,ServiceContext\n",
    "documents=SimpleDirectoryReader(\"data/pdf\").load_data()"
   ]
  },
  {
   "cell_type": "code",
   "execution_count": 28,
   "id": "133ded88-c6ad-40ff-b679-be1665e09155",
   "metadata": {},
   "outputs": [],
   "source": [
    "#documents"
   ]
  },
  {
   "cell_type": "code",
   "execution_count": 29,
   "id": "67104686-538b-4659-a565-85df5312aa07",
   "metadata": {},
   "outputs": [
    {
     "name": "stderr",
     "output_type": "stream",
     "text": [
      "/var/folders/tt/s83h4n255y95sgyr2yrtv2x00000gp/T/ipykernel_16937/1848985020.py:2: DeprecationWarning: Call to deprecated class method from_defaults. (ServiceContext is deprecated, please use `llama_index.settings.Settings` instead.) -- Deprecated since version 0.10.0.\n",
      "  service_context = ServiceContext.from_defaults(chunk_size=512)\n"
     ]
    },
    {
     "data": {
      "application/vnd.jupyter.widget-view+json": {
       "model_id": "4fb201fffc4e4cca8d9b4571cd7ae086",
       "version_major": 2,
       "version_minor": 0
      },
      "text/plain": [
       "Parsing nodes:   0%|          | 0/1 [00:00<?, ?it/s]"
      ]
     },
     "metadata": {},
     "output_type": "display_data"
    },
    {
     "data": {
      "application/vnd.jupyter.widget-view+json": {
       "model_id": "267688d5e0c84f48bd5f8fc495951962",
       "version_major": 2,
       "version_minor": 0
      },
      "text/plain": [
       "Generating embeddings:   0%|          | 0/1 [00:00<?, ?it/s]"
      ]
     },
     "metadata": {},
     "output_type": "display_data"
    },
    {
     "data": {
      "text/plain": [
       "<llama_index.core.indices.vector_store.base.VectorStoreIndex at 0x7f7ae83cf9a0>"
      ]
     },
     "execution_count": 29,
     "metadata": {},
     "output_type": "execute_result"
    }
   ],
   "source": [
    "# Convert this documents to index\n",
    "service_context = ServiceContext.from_defaults(chunk_size=512)\n",
    "index=VectorStoreIndex.from_documents(documents, service_context=service_context ,show_progress=True)\n",
    "index"
   ]
  },
  {
   "cell_type": "code",
   "execution_count": 18,
   "id": "e7bc6816-20ea-42c3-8328-767c89c3886a",
   "metadata": {},
   "outputs": [
    {
     "data": {
      "text/plain": [
       "<llama_index.core.query_engine.retriever_query_engine.RetrieverQueryEngine at 0x7f7ae844a650>"
      ]
     },
     "execution_count": 18,
     "metadata": {},
     "output_type": "execute_result"
    }
   ],
   "source": [
    "# Get the Query Engine from the Index\n",
    "query_engine = index.as_query_engine()\n",
    "query_engine"
   ]
  },
  {
   "cell_type": "code",
   "execution_count": 19,
   "id": "53a80502-e9b8-4b77-9767-8f7c23a33865",
   "metadata": {},
   "outputs": [
    {
     "name": "stdout",
     "output_type": "stream",
     "text": [
      "Ramesh is from Odisha and spent his childhood in Bhubaneswar. He completed his schooling from Central School and intermediate from BJB Junior college. He pursued his engineering (B.Tech) from ITER, Bhubaneswar. After graduation, he worked as a Systems Engineer at TCS for 5 years before moving to HP for a brief period of 7 months. Currently, he is working at Oracle as a Technical Lead for the past 4 years.\n"
     ]
    }
   ],
   "source": [
    "# Ask a query to this Query Engine\n",
    "response = query_engine.query(\"Tell me something about Ramesh\")\n",
    "print(response)"
   ]
  },
  {
   "cell_type": "code",
   "execution_count": 20,
   "id": "939748e2-2376-408c-83da-57aef15c0d11",
   "metadata": {},
   "outputs": [
    {
     "name": "stdout",
     "output_type": "stream",
     "text": [
      "Final Response: Ramesh is from Odisha and spent his childhood in\n",
      "Bhubaneswar. He completed his schooling from Central School and\n",
      "intermediate from BJB Junior college. He pursued his engineering\n",
      "(B.Tech) from ITER, Bhubaneswar. After graduation, he worked as a\n",
      "Systems Engineer at TCS for 5 years before moving to HP for a brief\n",
      "period of 7 months. Currently, he is working at Oracle as a Technical\n",
      "Lead for the past 4 years.\n",
      "______________________________________________________________________\n",
      "Source Node 1/2\n",
      "Node ID: d58b3877-c009-4c81-8a05-addde85b2d18\n",
      "Similarity: 0.8567114642495725\n",
      "Text: Ramesh belongs to Odisha. He spent his childhood in Bhubaneswar\n",
      "– the capital of Odisha. He did his schooling from Central School and\n",
      "completed his intermediate from BJB Junior college. Post that he did\n",
      "his engineering (B.Tech) from ITER, Bhubaneswar.   AFer graduaGon, he\n",
      "joined TCS as a Systems Engineer where he served for 5 years. Then he\n",
      "swit...\n",
      "______________________________________________________________________\n",
      "Source Node 2/2\n",
      "Node ID: 59e43f86-7071-4c87-b98e-eb5c5e674d6d\n",
      "Similarity: 0.758004297555972\n",
      "Text: Himanshubhusan  Rath   23:32 OK, for now. David. Uh, let's first\n",
      "enable this in UAE. Sorry, in our sandbox account and to start with,\n",
      "let's just replicate any one territory. Let's say UAE. OK, let's let's\n",
      "create a sub account. Another sub account for UAE with the same\n",
      "settings and all, and in the meantime we will also start a parallel\n",
      "thread wit...\n"
     ]
    }
   ],
   "source": [
    "# See the responses (Top response along with top - x responses)\n",
    "from llama_index.core.response.pprint_utils import pprint_response\n",
    "pprint_response(response, show_source=True)"
   ]
  },
  {
   "cell_type": "markdown",
   "id": "9348a31e-41d5-49f7-8194-7109ff05014f",
   "metadata": {},
   "source": [
    "## Create a query engine using Vector Retriever"
   ]
  },
  {
   "cell_type": "code",
   "execution_count": 21,
   "id": "8d97cd36-0958-4d9f-8a88-3dc294d47e70",
   "metadata": {},
   "outputs": [],
   "source": [
    "from llama_index.core.retrievers import VectorIndexRetriever\n",
    "from llama_index.core.query_engine import RetrieverQueryEngine\n",
    "from llama_index.core.indices.postprocessor import SimilarityPostprocessor\n",
    "\n",
    "retriever = VectorIndexRetriever(index=index, similarity_top_k=4)\n",
    "post_processor = SimilarityPostprocessor(similarity_cutoff=0.80)\n",
    "query_engine = RetrieverQueryEngine(retriever=retriever, node_postprocessors=[post_processor])\n"
   ]
  },
  {
   "cell_type": "code",
   "execution_count": 22,
   "id": "7e2074a8-de44-40d5-9b05-d1b3505288da",
   "metadata": {},
   "outputs": [
    {
     "name": "stdout",
     "output_type": "stream",
     "text": [
      "Final Response: Ramesh is from Odisha and spent his childhood in\n",
      "Bhubaneswar. He completed his schooling from Central School and his\n",
      "intermediate education from BJB Junior College. He pursued his\n",
      "engineering (B.Tech) from ITER, Bhubaneswar. After graduation, he\n",
      "started his career as a Systems Engineer at TCS, then moved to HP for\n",
      "a brief period before joining Oracle, where he currently serves as a\n",
      "Technical Lead.\n",
      "______________________________________________________________________\n",
      "Source Node 1/1\n",
      "Node ID: d58b3877-c009-4c81-8a05-addde85b2d18\n",
      "Similarity: 0.8567114642495725\n",
      "Text: Ramesh belongs to Odisha. He spent his childhood in Bhubaneswar\n",
      "– the capital of Odisha. He did his schooling from Central School and\n",
      "completed his intermediate from BJB Junior college. Post that he did\n",
      "his engineering (B.Tech) from ITER, Bhubaneswar.   AFer graduaGon, he\n",
      "joined TCS as a Systems Engineer where he served for 5 years. Then he\n",
      "swit...\n"
     ]
    }
   ],
   "source": [
    "# Ask a query to this Query Engine\n",
    "response = query_engine.query(\"Tell me something about Ramesh\")\n",
    "# See the responses (Top response along with top - 4 responses)\n",
    "pprint_response(response, show_source=True)"
   ]
  },
  {
   "cell_type": "markdown",
   "id": "09e9db25-b5b8-4de9-9b41-616067db6508",
   "metadata": {},
   "source": [
    "# Everything in one place"
   ]
  },
  {
   "cell_type": "code",
   "execution_count": 30,
   "id": "0f0c379b-4cf1-4832-a2c8-055ec95dc6a8",
   "metadata": {},
   "outputs": [
    {
     "data": {
      "application/vnd.jupyter.widget-view+json": {
       "model_id": "a96ff4b7fbb74a2da59d3c24cf4b954a",
       "version_major": 2,
       "version_minor": 0
      },
      "text/plain": [
       "Parsing nodes:   0%|          | 0/1 [00:00<?, ?it/s]"
      ]
     },
     "metadata": {},
     "output_type": "display_data"
    },
    {
     "data": {
      "application/vnd.jupyter.widget-view+json": {
       "model_id": "68b77305d4354df9b4cc492185d2209e",
       "version_major": 2,
       "version_minor": 0
      },
      "text/plain": [
       "Generating embeddings:   0%|          | 0/1 [00:00<?, ?it/s]"
      ]
     },
     "metadata": {},
     "output_type": "display_data"
    },
    {
     "name": "stdout",
     "output_type": "stream",
     "text": [
      "Ramesh has worked in three companies so far.\n",
      "No, Ramesh does not belong to Africa. The reason is that he spent his childhood in Bhubaneswar, the capital of Odisha, and completed his education in Odisha as well.\n"
     ]
    }
   ],
   "source": [
    "import os\n",
    "from dotenv import load_dotenv\n",
    "load_dotenv()\n",
    "\n",
    "os.environ['OPENAI_API_KEY']=os.getenv(\"OPENAI_API_KEY\")\n",
    "from llama_index.core import (\n",
    "    SimpleDirectoryReader,\n",
    "    VectorStoreIndex,\n",
    "    StorageContext,\n",
    "    load_index_from_storage\n",
    ")\n",
    "\n",
    "INDEX_STORE = './index_storage'\n",
    "\n",
    "if not os.path.exists(INDEX_STORE):\n",
    "    # Load the documents, create the index and store it for later usage\n",
    "    documents = SimpleDirectoryReader(\"data/pdf\").load_data()\n",
    "    index = VectorStoreIndex.from_documents(documents,show_progress=True)\n",
    "    # Store the index\n",
    "    index.storage_context.persist(persist_dir=INDEX_STORE)\n",
    "else:\n",
    "    # Load the index from file\n",
    "    storage_context = StorageContext.from_defaults(persist_dir=INDEX_STORE)\n",
    "    index = load_index_from_storage(storage_context=storage_context)\n",
    "\n",
    "\n",
    "query_engine = index.as_query_engine()\n",
    "response = query_engine.query(\"How many companies Ramesh has worked so far ?\");\n",
    "print(response)\n",
    "response = query_engine.query(\"Does Ramesh belong to Africa ? Show the reason \");\n",
    "print(response)"
   ]
  },
  {
   "cell_type": "code",
   "execution_count": null,
   "id": "eb648097-d5a2-4ff5-8efe-cd90d2a34522",
   "metadata": {},
   "outputs": [],
   "source": []
  }
 ],
 "metadata": {
  "kernelspec": {
   "display_name": "Python (genai-env-1)",
   "language": "python",
   "name": "genai-env-1"
  },
  "language_info": {
   "codemirror_mode": {
    "name": "ipython",
    "version": 3
   },
   "file_extension": ".py",
   "mimetype": "text/x-python",
   "name": "python",
   "nbconvert_exporter": "python",
   "pygments_lexer": "ipython3",
   "version": "3.10.13"
  }
 },
 "nbformat": 4,
 "nbformat_minor": 5
}
